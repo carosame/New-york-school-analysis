{
  "nbformat": 4,
  "nbformat_minor": 0,
  "metadata": {
    "colab": {
      "provenance": []
    },
    "kernelspec": {
      "name": "python3",
      "display_name": "Python 3"
    },
    "language_info": {
      "name": "python"
    }
  },
  "cells": [
    {
      "cell_type": "markdown",
      "source": [
        "**Importing Librairies**"
      ],
      "metadata": {
        "id": "w2Ez5QkBYD0w"
      }
    },
    {
      "cell_type": "code",
      "source": [
        "import pandas as pd\n",
        "import re\n",
        "import matplotlib.pyplot as plt\n",
        "\n",
        "# Load the dataset\n",
        "# The dataset has an extra header row, so we use skiprows=1\n",
        "df = pd.read_csv(\"high-school-directory.csv\", skiprows=1)\n",
        "\n",
        "# Function to clean column names\n",
        "def clean_column_name(column_name):\n",
        "    # Lowercase the name\n",
        "    column_name = column_name.lower()\n",
        "    # Replace spaces with underscores\n",
        "    column_name = column_name.replace(' ', '_')\n",
        "    # Remove special characters\n",
        "    column_name = re.sub(r'[^a-z0-9_]', '', column_name)\n",
        "    return column_name\n",
        "\n",
        "# Clean the column names\n",
        "df.columns = [clean_column_name(col) for col in df.columns]\n",
        "\n",
        "# Filter the dataset to include only schools located in Brooklyn\n",
        "brooklyn_schools = df[df['borough'] == 'Brooklyn']\n",
        "\n",
        "# Display the first few rows and the count of the filtered DataFrame\n",
        "print(brooklyn_schools.head())\n",
        "print(f\"\\nNumber of schools in Brooklyn: {brooklyn_schools.shape[0]}\")"
      ],
      "metadata": {
        "colab": {
          "base_uri": "https://localhost:8080/"
        },
        "id": "DRQ-AWUwaAMm",
        "outputId": "d5d7022a-8123-4d80-b382-268505a91ecf"
      },
      "execution_count": 3,
      "outputs": [
        {
          "output_type": "stream",
          "name": "stdout",
          "text": [
            "       dbn                                        school_name   borough  \\\n",
            "1   21K559        Life Academy High School for Film and Music  Brooklyn   \n",
            "2   16K393     Frederick Douglass Academy IV Secondary School  Brooklyn   \n",
            "7   17K122  Pathways in Technology Early College High Scho...  Brooklyn   \n",
            "10  23K644                     Eagle Academy for Young Men II  Brooklyn   \n",
            "12  15K462                           Secondary School for Law  Brooklyn   \n",
            "\n",
            "   building_code  phone_number    fax_number  grade_span_min  grade_span_max  \\\n",
            "1           K400  718-333-7750  718-333-7775             9.0              12   \n",
            "2           K026  718-574-2820  718-574-2821             9.0              12   \n",
            "7           K625  718-221-1593  718-221-1781             9.0              12   \n",
            "10          K271  718-495-0863  718-732-2129             6.0              12   \n",
            "12          K460  718-832-4250  718-499-3947             9.0              12   \n",
            "\n",
            "    expgrade_span_min  expgrade_span_max  ... council_district census_tract  \\\n",
            "1                 NaN                NaN  ...             47.0        306.0   \n",
            "2                 NaN                NaN  ...             36.0        291.0   \n",
            "7                 9.0               14.0  ...             36.0        311.0   \n",
            "10                NaN                NaN  ...             41.0        301.0   \n",
            "12                NaN                NaN  ...             39.0        155.0   \n",
            "\n",
            "          bin           bbl  \\\n",
            "1   3186454.0  3.068830e+09   \n",
            "2   3393805.0  3.016160e+09   \n",
            "7   3030553.0  3.012160e+09   \n",
            "10  3042157.0  3.015500e+09   \n",
            "12  3025510.0  3.010820e+09   \n",
            "\n",
            "                                                  nta  zip_codes  \\\n",
            "1   Gravesend                                     ...    17616.0   \n",
            "2   Stuyvesant Heights                            ...    18181.0   \n",
            "7   Crown Heights North                           ...    17615.0   \n",
            "10  Ocean Hill                                    ...    13516.0   \n",
            "12  Park Slope-Gowanus                            ...    17617.0   \n",
            "\n",
            "   community_districts  borough_boundaries city_council_districts  \\\n",
            "1                   21                   2                     45   \n",
            "2                   69                   2                     49   \n",
            "7                   16                   2                     49   \n",
            "10                  55                   2                     17   \n",
            "12                  14                   2                     27   \n",
            "\n",
            "   police_precincts  \n",
            "1                35  \n",
            "2                52  \n",
            "7                49  \n",
            "10               46  \n",
            "12               50  \n",
            "\n",
            "[5 rows x 69 columns]\n",
            "\n",
            "Number of schools in Brooklyn: 121\n"
          ]
        }
      ]
    },
    {
      "cell_type": "code",
      "source": [
        "total_brooklyn_schools = brooklyn_schools['dbn'].nunique()\n",
        "print(f\"Total unique schools in Brooklyn: {total_brooklyn_schools}\")\n"
      ],
      "metadata": {
        "colab": {
          "base_uri": "https://localhost:8080/"
        },
        "id": "fmbIOD8vdr8B",
        "outputId": "ed8b555b-d92d-48dd-9ebd-68f451275c6a"
      },
      "execution_count": 9,
      "outputs": [
        {
          "output_type": "stream",
          "name": "stdout",
          "text": [
            "Total unique schools in Brooklyn: 121\n"
          ]
        }
      ]
    },
    {
      "cell_type": "code",
      "source": [
        "# Filter for schools where the minimum grade is 9\n",
        "grade_9_schools = brooklyn_schools[\n",
        "    (brooklyn_schools['grade_span_min'] <= 9) &\n",
        "    (brooklyn_schools['grade_span_max'] >= 9)\n",
        "]['dbn'].nunique()\n",
        "\n",
        "print(f\"Unique schools in Brooklyn that include Grade 9: {grade_9_schools}\")\n",
        "\n"
      ],
      "metadata": {
        "colab": {
          "base_uri": "https://localhost:8080/"
        },
        "id": "mda1CWv1d_1e",
        "outputId": "4a3ab395-d843-4883-94b8-10b101c060fc"
      },
      "execution_count": 10,
      "outputs": [
        {
          "output_type": "stream",
          "name": "stdout",
          "text": [
            "Unique schools in Brooklyn that include Grade 9: 121\n"
          ]
        }
      ]
    },
    {
      "cell_type": "markdown",
      "source": [
        "#** --- Group and summarize ---**"
      ],
      "metadata": {
        "id": "zzqkPEnreHil"
      }
    },
    {
      "cell_type": "code",
      "source": [
        "schools_per_borough = df.groupby('borough')['dbn'].nunique()\n",
        "print(\"\\nUnique schools per borough (using nunique):\")\n",
        "print(schools_per_borough)"
      ],
      "metadata": {
        "colab": {
          "base_uri": "https://localhost:8080/"
        },
        "id": "ODPQAYPKeKKu",
        "outputId": "2225304a-657a-410f-9b5e-bf634c832179"
      },
      "execution_count": 11,
      "outputs": [
        {
          "output_type": "stream",
          "name": "stdout",
          "text": [
            "\n",
            "Unique schools per borough (using nunique):\n",
            "borough\n",
            "Bronx            118\n",
            "Brooklyn         121\n",
            "Manhattan        106\n",
            "Queens            80\n",
            "Staten Island     10\n",
            "Name: dbn, dtype: int64\n"
          ]
        }
      ]
    },
    {
      "cell_type": "markdown",
      "source": [
        "**Average number of students per borough**"
      ],
      "metadata": {
        "id": "m8ccE232esFF"
      }
    },
    {
      "cell_type": "code",
      "source": [
        "avg_students = df.groupby('borough')['total_students'].mean().round(1)\n",
        "print(\"\\nAverage number of students per borough:\")\n",
        "print(avg_students)"
      ],
      "metadata": {
        "colab": {
          "base_uri": "https://localhost:8080/"
        },
        "id": "JBlJwHnoevG0",
        "outputId": "3e224420-30e0-418b-81ab-8153e038204f"
      },
      "execution_count": 27,
      "outputs": [
        {
          "output_type": "stream",
          "name": "stdout",
          "text": [
            "\n",
            "Average number of students per borough:\n",
            "borough\n",
            "Bronx             490.4\n",
            "Brooklyn          699.1\n",
            "Manhattan         589.8\n",
            "Queens           1046.6\n",
            "Staten Island    1847.5\n",
            "Name: total_students, dtype: float64\n"
          ]
        }
      ]
    },
    {
      "cell_type": "markdown",
      "source": [
        "**Summary of grade_span_max grouped by borough**"
      ],
      "metadata": {
        "id": "0dmRCpr9ffDz"
      }
    },
    {
      "cell_type": "code",
      "source": [
        "grade_span_summary = df.groupby('borough')['grade_span_max'].describe()\n",
        "print(\"\\nGrade span max summary by borough:\")\n",
        "print(grade_span_summary)"
      ],
      "metadata": {
        "colab": {
          "base_uri": "https://localhost:8080/"
        },
        "id": "kUZuDjYGfiPb",
        "outputId": "f79ae117-54e4-4940-a46a-fe95e30d2c51"
      },
      "execution_count": 28,
      "outputs": [
        {
          "output_type": "stream",
          "name": "stdout",
          "text": [
            "\n",
            "Grade span max summary by borough:\n",
            "               count       mean       std   min   25%   50%   75%   max\n",
            "borough                                                                \n",
            "Bronx          118.0  11.906780  0.369506   9.0  12.0  12.0  12.0  12.0\n",
            "Brooklyn       121.0  11.933884  0.381566   9.0  12.0  12.0  12.0  12.0\n",
            "Manhattan      106.0  11.877358  0.472135   9.0  12.0  12.0  12.0  12.0\n",
            "Queens          80.0  11.825000  0.497462  10.0  12.0  12.0  12.0  12.0\n",
            "Staten Island   10.0  12.000000  0.000000  12.0  12.0  12.0  12.0  12.0\n"
          ]
        }
      ]
    },
    {
      "cell_type": "markdown",
      "source": [
        "**Creating Visualizations**\n"
      ],
      "metadata": {
        "id": "lhSy4C97gSZo"
      }
    },
    {
      "cell_type": "code",
      "source": [
        "#-Bar chart: Number of schools per borough\n",
        "schools_per_borough.plot(kind='bar', figsize=(10, 6))\n",
        "plt.title('Number of Schools per Borough')\n",
        "plt.xlabel('Borough')\n",
        "plt.ylabel('Number of Schools')\n",
        "plt.xticks(rotation=45)\n",
        "plt.tight_layout()\n",
        "plt.show()"
      ],
      "metadata": {
        "colab": {
          "base_uri": "https://localhost:8080/",
          "height": 450
        },
        "id": "RDjhq2vLgWku",
        "outputId": "2b5cf7b6-be42-42f1-8f6c-4c7d7c118cc3"
      },
      "execution_count": 29,
      "outputs": [
        {
          "output_type": "display_data",
          "data": {
            "text/plain": [
              "<Figure size 1000x600 with 1 Axes>"
            ],
            "image/png": "[encoded data removed]"
          },
          "metadata": {}
        }
      ]
    },
    {
      "cell_type": "markdown",
      "source": [
        "**Key Insights**"
      ],
      "metadata": {
        "id": "gUHzowCBpDFm"
      }
    },
    {
      "cell_type": "markdown",
      "source": [
        "1  -Geographical Distribution: Brooklyn, Bronx, and Manhattan host the highest number of high schools, with 121, 118, and 106 schools respectively, while Staten Island has significantly fewer (10 schools) ."
      ],
      "metadata": {
        "id": "R9W6skU14w65"
      }
    },
    {
      "cell_type": "markdown",
      "source": [
        "2 -Student Population Averages: While Staten Island has the fewest schools, it has the highest average number of students per school (1847.50), suggesting that its schools are significantly larger on average than those in other boroughs. In contrast, the Bronx has the second-highest number of schools but the lowest average student population (490.41).\")"
      ],
      "metadata": {
        "id": "PydwHKJr41wp"
      }
    },
    {
      "cell_type": "markdown",
      "source": [],
      "metadata": {
        "id": "96M0nZk56Bdu"
      }
    }
  ]
}
